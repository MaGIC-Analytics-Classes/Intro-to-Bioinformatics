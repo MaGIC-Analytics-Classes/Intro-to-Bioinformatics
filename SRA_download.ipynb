{
 "cells": [
  {
   "cell_type": "markdown",
   "metadata": {},
   "source": [
    "# How to download from SRA/NCBI\n",
    "This will be a quick tutorial on how to download datasets more easily from SRA or NCBI.\n",
    "We will take advantage of several scripts and tools that are open sourced for ease."
   ]
  },
  {
   "cell_type": "markdown",
   "metadata": {},
   "source": [
    "## NCBI download\n",
    "For certain things, you can just go directly to [NCBI genomes](https://www.ncbi.nlm.nih.gov/guide/genomes-maps/), search for the genome of interest, open the page and download as a link. For something more programmatic, we utilize the two tools produced by Kai Blin (also creator of antiSMASH):\n",
    "### [NCBI Genomes downloader](https://github.com/kblin/ncbi-genome-download)\n",
    "Allows for download based upon NCBI genome search criteria\n",
    "### [NCBI ACC downloader](https://github.com/kblin/ncbi-acc-download)\n",
    "Allows for download based upon NCBI direct accessions\n",
    "\n",
    "In the example below, we will use the same download item we would use for the WGS 101 session upcoming. Since there is a specific accession we have for our reference genome and it is known, we can use the NCBI ACC downloader, set the output format to be fasta, and then enter the accession number. It will then download this sequence."
   ]
  },
  {
   "cell_type": "code",
   "execution_count": null,
   "metadata": {},
   "outputs": [],
   "source": [
    "%%bash\n",
    "ncbi-acc-download --format fasta NZ_CP017669.1"
   ]
  },
  {
   "cell_type": "markdown",
   "metadata": {},
   "source": [
    "## SRA Download\n",
    "Alternatively for SRA downloads, I dont believe you can directly download anymore and have to use their [SRA toolkit](https://github.com/ncbi/sra-tools). This can sometimes be a bit finicky- occasionally it will refuse to download reads that are present for an unknown reason. In cases like that, usually the same SRA project is accessible through ENA, and then you can use a standard [wget]() call as an alternative. We will review that a bit more in the unix sessions. \n",
    "### Direct SRA toolkit download\n",
    "To find your specific SRA files for download, you must first find the relevant project in [GEO](https://www.ncbi.nlm.nih.gov/geo/)/[SRA](https://www.ncbi.nlm.nih.gov/sra). Once you have found a project of interest, you can identify the specific sample names you need to download. If using the SRA run downloader tool, you will be able to download a .txt file that contains all of the sample names for a specific project instead of manually going into each one.\n",
    "\n",
    "After installing the SRA toolkit, you can use the fastq-dump function. Adding \"--split-files\" allows it to natively split it into R1 and R2 (if applicable), \"--gzip\" compresses the output to .gz, and then \"--outdir\" defines the output directory- in this case \"./\" is the local directory, and then lastly the SRA accession information for the direct sample. "
   ]
  },
  {
   "cell_type": "code",
   "execution_count": null,
   "metadata": {},
   "outputs": [],
   "source": [
    "fastq-dump --split-files --gzip --outdir ./ SAMN09914146"
   ]
  },
  {
   "cell_type": "markdown",
   "metadata": {},
   "source": [
    "### Wget from ENA alternative\n",
    "As mentioned, you can directly download using wget (a standard unix download tool) from ENA if SRA is failing. This will require a little bit more manual digging to set up and moving through the full FTP site that ENA hosts.\n",
    "This breaks down into the call \"wget\", then followed by the FTP path of the data. "
   ]
  },
  {
   "cell_type": "code",
   "execution_count": null,
   "metadata": {},
   "outputs": [],
   "source": [
    "wget ftp://ftp.sra.ebi.ac.uk/vol1/fastq/SRR840/001/SRR8404401/SRR8404401_1.fastq.gz "
   ]
  }
 ],
 "metadata": {
  "kernelspec": {
   "display_name": "Python 3",
   "language": "python",
   "name": "python3"
  },
  "language_info": {
   "codemirror_mode": {
    "name": "ipython",
    "version": 3
   },
   "file_extension": ".py",
   "mimetype": "text/x-python",
   "name": "python",
   "nbconvert_exporter": "python",
   "pygments_lexer": "ipython3",
   "version": "3.7.4"
  }
 },
 "nbformat": 4,
 "nbformat_minor": 4
}